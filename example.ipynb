{
 "cells": [
  {
   "cell_type": "markdown",
   "metadata": {},
   "source": [
    "# bitMEX Scraper Example\n",
    "\n",
    "This is an implementation of the bitMEX Historical Scraper (https://github.com/bmoscon/bitmex_historical_scraper).\n",
    "\n",
    "### Columns\n",
    "\n",
    "Explanation of the columns can be found at https://www.bitmex.com/api/explorer/#/Trade.\n",
    "    \n",
    "- `size`: Amount of contracts traded.\n",
    "- `tickDirection`: \"MinusTick\": The trade happened at a lower price than the previous one. \"PlusTick\" : This trade happened at a higher price than the previous one. \"ZeroPlusTick\" : The previous trade was PLUSTICK and this one has a price equal or lower than the previous one. \"ZeroMinusTick\" : The previous trade was MINUSTICK and this one has a price equal or higher than the previous one.\n",
    "- `homeNotional`: Total value of trade in home denomination (e.g. XBT in XBTUSD).\n",
    "- `foreignNotional`: Total value of trade in foreign denomination (e.g. UDS in XBTUSD)."
   ]
  },
  {
   "cell_type": "code",
   "execution_count": 1,
   "metadata": {},
   "outputs": [],
   "source": [
    "# Define a folder to store data to\n",
    "file_dir = 'D:/data/BITMEX/'"
   ]
  },
  {
   "cell_type": "code",
   "execution_count": 2,
   "metadata": {},
   "outputs": [],
   "source": [
    "# Load library\n",
    "from bitmex_scraping import get_bitmex_data, get_bitmex_data_period"
   ]
  },
  {
   "cell_type": "markdown",
   "metadata": {},
   "source": [
    "## Scraping one day"
   ]
  },
  {
   "cell_type": "code",
   "execution_count": 7,
   "metadata": {},
   "outputs": [
    {
     "name": "stdout",
     "output_type": "stream",
     "text": [
      "<class 'pandas.core.frame.DataFrame'>\n",
      "RangeIndex: 2 entries, 0 to 1\n",
      "Data columns (total 11 columns):\n",
      " #   Column           Non-Null Count  Dtype         \n",
      "---  ------           --------------  -----         \n",
      " 0   timestamp        2 non-null      datetime64[ns]\n",
      " 1   symbol           2 non-null      category      \n",
      " 2   side             2 non-null      category      \n",
      " 3   size             2 non-null      int64         \n",
      " 4   price            2 non-null      float64       \n",
      " 5   tickDirection    2 non-null      category      \n",
      " 6   trdMatchID       2 non-null      object        \n",
      " 7   grossValue       2 non-null      int64         \n",
      " 8   homeNotional     2 non-null      float64       \n",
      " 9   foreignNotional  2 non-null      float64       \n",
      " 10  date             2 non-null      datetime64[ns]\n",
      "dtypes: category(3), datetime64[ns](2), float64(3), int64(2), object(1)\n",
      "memory usage: 769.0 bytes\n"
     ]
    }
   ],
   "source": [
    "get_bitmex_data('20141122', file_dir).info(memory_usage='deep')"
   ]
  },
  {
   "cell_type": "code",
   "execution_count": 8,
   "metadata": {},
   "outputs": [
    {
     "name": "stdout",
     "output_type": "stream",
     "text": [
      "<class 'pandas.core.frame.DataFrame'>\n",
      "RangeIndex: 2 entries, 0 to 1\n",
      "Data columns (total 5 columns):\n",
      " #   Column     Non-Null Count  Dtype         \n",
      "---  ------     --------------  -----         \n",
      " 0   timestamp  2 non-null      datetime64[ns]\n",
      " 1   symbol     2 non-null      category      \n",
      " 2   side       2 non-null      category      \n",
      " 3   size       2 non-null      uint32        \n",
      " 4   price      2 non-null      float64       \n",
      "dtypes: category(2), datetime64[ns](1), float64(1), uint32(1)\n",
      "memory usage: 295.0 bytes\n"
     ]
    }
   ],
   "source": [
    "get_bitmex_data('20141122', file_dir, leanMode=True).info(memory_usage='deep')"
   ]
  },
  {
   "cell_type": "markdown",
   "metadata": {},
   "source": [
    "### Large Sizes\n",
    "\n",
    "If one (or more) of the sizes is too large for an `uint32`, we keep `int64`:"
   ]
  },
  {
   "cell_type": "code",
   "execution_count": 9,
   "metadata": {},
   "outputs": [
    {
     "name": "stdout",
     "output_type": "stream",
     "text": [
      "<class 'pandas.core.frame.DataFrame'>\n",
      "RangeIndex: 319079 entries, 0 to 319078\n",
      "Data columns (total 5 columns):\n",
      " #   Column     Non-Null Count   Dtype         \n",
      "---  ------     --------------   -----         \n",
      " 0   timestamp  319079 non-null  datetime64[ns]\n",
      " 1   symbol     319079 non-null  category      \n",
      " 2   side       319079 non-null  category      \n",
      " 3   size       319079 non-null  int64         \n",
      " 4   price      319079 non-null  float64       \n",
      "dtypes: category(2), datetime64[ns](1), float64(1), int64(1)\n",
      "memory usage: 7.9 MB\n"
     ]
    }
   ],
   "source": [
    "get_bitmex_data('20210915', file_dir, leanMode=True).info(memory_usage='deep')"
   ]
  },
  {
   "cell_type": "markdown",
   "metadata": {},
   "source": [
    "## Scraping several days"
   ]
  },
  {
   "cell_type": "code",
   "execution_count": 10,
   "metadata": {},
   "outputs": [
    {
     "name": "stderr",
     "output_type": "stream",
     "text": [
      "100%|████████████████████████████████████████████████████████████████████████████████████| 9/9 [00:37<00:00,  4.19s/it]\n"
     ]
    }
   ],
   "source": [
    "df = get_bitmex_data_period(\n",
    "    '20210903',\n",
    "    '20210911',\n",
    "    file_dir,\n",
    "    leanMode=True\n",
    ")"
   ]
  },
  {
   "cell_type": "code",
   "execution_count": 11,
   "metadata": {},
   "outputs": [
    {
     "name": "stdout",
     "output_type": "stream",
     "text": [
      "<class 'pandas.core.frame.DataFrame'>\n",
      "RangeIndex: 3942278 entries, 0 to 3942277\n",
      "Data columns (total 5 columns):\n",
      " #   Column     Non-Null Count    Dtype         \n",
      "---  ------     --------------    -----         \n",
      " 0   timestamp  3942278 non-null  datetime64[ns]\n",
      " 1   symbol     3942278 non-null  category      \n",
      " 2   side       3942278 non-null  category      \n",
      " 3   size       3942278 non-null  uint32        \n",
      " 4   price      3942278 non-null  float64       \n",
      "dtypes: category(2), datetime64[ns](1), float64(1), uint32(1)\n",
      "memory usage: 82.7 MB\n"
     ]
    }
   ],
   "source": [
    "df.info(memory_usage='deep', null_counts=True)"
   ]
  },
  {
   "cell_type": "code",
   "execution_count": 12,
   "metadata": {},
   "outputs": [
    {
     "data": {
      "text/plain": [
       "(Timestamp('2021-09-03 00:00:00.099694'),\n",
       " Timestamp('2021-09-11 23:59:59.673480'))"
      ]
     },
     "execution_count": 12,
     "metadata": {},
     "output_type": "execute_result"
    }
   ],
   "source": [
    "df['timestamp'].min(), df['timestamp'].max()"
   ]
  },
  {
   "cell_type": "markdown",
   "metadata": {},
   "source": [
    "### Trades"
   ]
  },
  {
   "cell_type": "code",
   "execution_count": 11,
   "metadata": {
    "scrolled": false
   },
   "outputs": [
    {
     "data": {
      "image/png": "[encoded data removed]",
      "text/plain": [
       "<Figure size 1152x432 with 1 Axes>"
      ]
     },
     "metadata": {
      "needs_background": "light"
     },
     "output_type": "display_data"
    }
   ],
   "source": [
    "df.groupby('symbol')['timestamp'].count().sort_values(ascending=False).plot.bar(figsize=(16, 6));"
   ]
  },
  {
   "cell_type": "code",
   "execution_count": null,
   "metadata": {},
   "outputs": [],
   "source": []
  }
 ],
 "metadata": {
  "kernelspec": {
   "display_name": "Python [conda env:root] *",
   "language": "python",
   "name": "conda-root-py"
  },
  "language_info": {
   "codemirror_mode": {
    "name": "ipython",
    "version": 3
   },
   "file_extension": ".py",
   "mimetype": "text/x-python",
   "name": "python",
   "nbconvert_exporter": "python",
   "pygments_lexer": "ipython3",
   "version": "3.7.0"
  }
 },
 "nbformat": 4,
 "nbformat_minor": 4
}
